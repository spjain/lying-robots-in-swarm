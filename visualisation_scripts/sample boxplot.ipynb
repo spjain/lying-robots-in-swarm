{
 "cells": [
  {
   "cell_type": "code",
   "execution_count": 1,
   "metadata": {},
   "outputs": [],
   "source": [
    "import matplotlib.pyplot as plt\n",
    "import numpy as np"
   ]
  },
  {
   "cell_type": "code",
   "execution_count": 2,
   "metadata": {},
   "outputs": [],
   "source": [
    "GROUPS = 5\n",
    "BARS = 4"
   ]
  },
  {
   "cell_type": "code",
   "execution_count": 3,
   "metadata": {},
   "outputs": [],
   "source": [
    "# generate some data\n",
    "x = []\n",
    "for i in range(0,BARS):\n",
    "    x = x + [np.random.rand(100,GROUPS)]"
   ]
  },
  {
   "cell_type": "code",
   "execution_count": 4,
   "metadata": {},
   "outputs": [],
   "source": [
    "COLS = [\"red\", \"green\", \"blue\", \"orange\"]\n",
    "DIST = 7"
   ]
  },
  {
   "cell_type": "code",
   "execution_count": 14,
   "metadata": {},
   "outputs": [
    {
     "data": {
      "text/plain": [
       "Text(0,0.5,'fraction converged')"
      ]
     },
     "execution_count": 14,
     "metadata": {},
     "output_type": "execute_result"
    },
    {
     "data": {
      "image/png": "[encoded data removed]",
      "text/plain": [
       "<Figure size 432x288 with 1 Axes>"
      ]
     },
     "metadata": {
      "needs_background": "light"
     },
     "output_type": "display_data"
    }
   ],
   "source": [
    "%matplotlib inline\n",
    "\n",
    "def plotme(i):\n",
    "    pos = []\n",
    "    for j in range(0, GROUPS):\n",
    "        pos = pos + [i+1 + j*DIST]\n",
    "    ax.boxplot(x[i], positions=pos, patch_artist=True, boxprops=dict(facecolor=COLS[i]))\n",
    "        \n",
    "fig,ax = plt.subplots(1,1)\n",
    "\n",
    "for i in range(0, BARS):\n",
    "    plotme(i)\n",
    "\n",
    "ax.set_xlim(0, DIST * (GROUPS-1) + BARS + 1)\n",
    "xticks = []\n",
    "xtickslbls = []\n",
    "for i in range(0, GROUPS):\n",
    "    xticks = xticks + [(BARS + 1.0) / 2.0 + i * DIST]\n",
    "    xtickslbls = xtickslbls + [(i+1) * 10]\n",
    "ax.set_xticks(xticks)\n",
    "ax.set_xticklabels(xtickslbls)\n",
    "ax.set_xlabel(\"% liars\")\n",
    "ax.set_ylabel(\"fraction converged\")"
   ]
  }
 ],
 "metadata": {
  "kernelspec": {
   "display_name": "Python 3",
   "language": "python",
   "name": "python3"
  },
  "language_info": {
   "codemirror_mode": {
    "name": "ipython",
    "version": 2
   },
   "file_extension": ".py",
   "mimetype": "text/x-python",
   "name": "python",
   "nbconvert_exporter": "python",
   "pygments_lexer": "ipython2",
   "version": "2.7.15"
  }
 },
 "nbformat": 4,
 "nbformat_minor": 2
}
