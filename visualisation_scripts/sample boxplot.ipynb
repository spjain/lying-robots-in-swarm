{
 "cells": [
  {
   "cell_type": "code",
   "execution_count": 2,
   "metadata": {},
   "outputs": [],
   "source": [
    "# For graphs\n",
    "import matplotlib.pyplot as plt\n",
    "# For number generation\n",
    "import numpy as np\n",
    "# For data analysis\n",
    "import pandas as pd"
   ]
  },
  {
   "cell_type": "markdown",
   "metadata": {},
   "source": [
    "# Basics"
   ]
  },
  {
   "cell_type": "code",
   "execution_count": 39,
   "metadata": {},
   "outputs": [],
   "source": [
    "x = [np.linspace(0.0, 0.25), np.linspace(0.25, 0.5), np.linspace(0.5, 0.75), np.linspace(0.75, 1.0)]"
   ]
  },
  {
   "cell_type": "code",
   "execution_count": 37,
   "metadata": {},
   "outputs": [
    {
     "data": {
      "image/png": "[encoded data removed]",
      "text/plain": [
       "<Figure size 432x288 with 1 Axes>"
      ]
     },
     "metadata": {
      "needs_background": "light"
     },
     "output_type": "display_data"
    }
   ],
   "source": [
    "fig,ax = plt.subplots(1,1)\n",
    "ax.boxplot(x);"
   ]
  },
  {
   "cell_type": "markdown",
   "metadata": {},
   "source": [
    "# Playground"
   ]
  },
  {
   "cell_type": "code",
   "execution_count": 18,
   "metadata": {},
   "outputs": [],
   "source": [
    "GROUPS = 5\n",
    "BARS = 4"
   ]
  },
  {
   "cell_type": "code",
   "execution_count": 19,
   "metadata": {},
   "outputs": [],
   "source": [
    "# generate some data\n",
    "x = []\n",
    "for i in range(0,BARS):\n",
    "    x = x + [np.random.rand(10,GROUPS)]"
   ]
  },
  {
   "cell_type": "code",
   "execution_count": 20,
   "metadata": {},
   "outputs": [],
   "source": [
    "COLS = [\"red\", \"green\", \"blue\", \"orange\"]\n",
    "DIST = 7"
   ]
  },
  {
   "cell_type": "code",
   "execution_count": 21,
   "metadata": {},
   "outputs": [
    {
     "data": {
      "image/png": "[encoded data removed]",
      "text/plain": [
       "<Figure size 432x288 with 1 Axes>"
      ]
     },
     "metadata": {
      "needs_background": "light"
     },
     "output_type": "display_data"
    }
   ],
   "source": [
    "%matplotlib inline\n",
    "\n",
    "def plotme(i):\n",
    "    pos = []\n",
    "    for j in range(0, GROUPS):\n",
    "        pos = pos + [i+1 + j*DIST]\n",
    "    ax.boxplot(x[i], positions=pos, patch_artist=True, boxprops=dict(facecolor=COLS[i]))\n",
    "        \n",
    "fig,ax = plt.subplots(1,1)\n",
    "\n",
    "for i in range(0, BARS):\n",
    "    plotme(i)\n",
    "\n",
    "ax.set_xlim(0, DIST * (GROUPS-1) + BARS + 1)\n",
    "xticks = []\n",
    "xtickslbls = []\n",
    "for i in range(0, GROUPS):\n",
    "    xticks = xticks + [(BARS + 1.0) / 2.0 + i * DIST]\n",
    "    xtickslbls = xtickslbls + [(i+1) * 10]\n",
    "ax.set_xticks(xticks)\n",
    "ax.set_xticklabels(xtickslbls)\n",
    "ax.set_xlabel(\"% liars\")\n",
    "ax.set_ylabel(\"fraction converged\");"
   ]
  },
  {
   "cell_type": "markdown",
   "metadata": {},
   "source": [
    "# Data Analysis\n",
    "\n",
    "- **Metrics**\n",
    "    - Convergence time and Convergence fraction\n",
    "- **Parameters**\n",
    "    - $N = 10$\n",
    "        1. **Basic: (table)**\n",
    "            - Multiple robots with and without communication and with and whitout noise\n",
    "            - Multiple robots with communication and liars with and without noise\n",
    "                - Include liar fraction\n",
    "                - Include all the liar strategies\n",
    "                - We consider only comm step = 0\n",
    "        2. **Filtering and communication step: (plot)**\n",
    "            - Multiple robots with communication and liars with and without noise\n",
    "            - Include liar fraction\n",
    "            - Include all the liar strategies\n",
    "            - Include all the filtering strategies\n",
    "            - We consider comm steps > 0\n",
    "    - $N = 50,100$\n",
    "        3. **Scalability: (plot)**\n",
    "            - Multiple robots with communication and liars with and without noise\n",
    "            - Include liar fraction\n",
    "            - Include all the liar strategies\n",
    "            - Include all the filtering strategies\n",
    "            - We consider comm steps > 0"
   ]
  },
  {
   "cell_type": "markdown",
   "metadata": {},
   "source": [
    "# Convergence Time"
   ]
  },
  {
   "cell_type": "markdown",
   "metadata": {},
   "source": [
    "## 10 Robots, No communication"
   ]
  },
  {
   "cell_type": "code",
   "execution_count": 8,
   "metadata": {},
   "outputs": [],
   "source": [
    "# Read data\n",
    "y = pd.read_csv(\"data_comm_step_inf.csv\")"
   ]
  },
  {
   "cell_type": "code",
   "execution_count": 277,
   "metadata": {},
   "outputs": [],
   "source": [
    "PARAM1 = [10,20,30]\n",
    "PARAM2 = [100,200]\n",
    "REPS = 5\n",
    "x = pd.DataFrame(data = {\n",
    "    'param1': np.repeat(PARAM1, len(PARAM2) * REPS),\n",
    "    'param2': np.tile(np.repeat(PARAM2, REPS), len(PARAM1)),\n",
    "    'success': np.tile(np.linspace(0.0, 1.0, REPS), len(PARAM1) * len(PARAM2))\n",
    "})"
   ]
  },
  {
   "cell_type": "code",
   "execution_count": 279,
   "metadata": {},
   "outputs": [
    {
     "data": {
      "image/png": "[encoded data removed]",
      "text/plain": [
       "<Figure size 432x288 with 1 Axes>"
      ]
     },
     "metadata": {
      "needs_background": "light"
     },
     "output_type": "display_data"
    }
   ],
   "source": [
    "%matplotlib inline\n",
    "\n",
    "fig,ax = plt.subplots(1,1)\n",
    "\n",
    "for p1 in x.param1.unique():\n",
    "    y = []\n",
    "    for p2 in x.param2.unique():\n",
    "        y = y + [x[(x.param1 == p1) & (x.param2 == p2)].success.values]\n",
    "        ax.boxplot(y);"
   ]
  }
 ],
 "metadata": {
  "kernelspec": {
   "display_name": "Python 3",
   "language": "python",
   "name": "python3"
  },
  "language_info": {
   "codemirror_mode": {
    "name": "ipython",
    "version": 2
   },
   "file_extension": ".py",
   "mimetype": "text/x-python",
   "name": "python",
   "nbconvert_exporter": "python",
   "pygments_lexer": "ipython2",
   "version": "2.7.16"
  }
 },
 "nbformat": 4,
 "nbformat_minor": 2
}
